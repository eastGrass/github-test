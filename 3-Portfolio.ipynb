{
 "cells": [
  {
   "cell_type": "markdown",
   "id": "3fd6ad85",
   "metadata": {},
   "source": [
    "## Chapter 3. Portfolio"
   ]
  },
  {
   "cell_type": "code",
   "execution_count": null,
   "id": "ef47ac22",
   "metadata": {},
   "outputs": [],
   "source": [
    "import functools\n",
    "import operator\n",
    "import unittest \n",
    "\n",
    "\n",
    "class Portfolio:\n",
    "    def add(self, *moneys):\n",
    "        pass\n",
    "\n",
    "    def evaluate(self, currency):\n",
    "        return Money(15, \"USD\")\n",
    "    \n",
    "def testAddition(self):\n",
    "    fiveDollars = Money(5, \"USD\")\n",
    "    tenDollars = Money(10, \"USD\")\n",
    "    \n",
    "    fifteenDollars = Money(15, \"USD\")\n",
    "    portfolio = Portfolio() \n",
    "    portfolio.add(fiveDollars, tenDollars) \n",
    "    self.assertEqual(fifteenDollars, portfolio.evaluate(\"USD\"))"
   ]
  },
  {
   "cell_type": "code",
   "execution_count": 8,
   "id": "a0bcbe82",
   "metadata": {},
   "outputs": [],
   "source": [
    "import datetime\n",
    "import dateutil\n",
    " \n",
    "def make_url(date):\n",
    "    \"\"\"Return the url for our API call based on date.\"\"\"\n",
    "\n",
    "    if isinstance(date,str):\n",
    "        date=dateutil.parser.parse(date).date()\n",
    "    elif not isinstance(date,datetime.date):\n",
    "        raise ValueError(\"must be a date\")\n",
    "    if date >= datetime.date(2020, 1, 1):\n",
    "        return f\"https://api.example.com/v2/{date.year}/{date.month}/{date.day}\"\n",
    "    else:\n",
    "        return f\"https://api.example.com/v1/{date:%Y-%m-%d}\""
   ]
  },
  {
   "cell_type": "code",
   "execution_count": 9,
   "id": "eb9d4dc9",
   "metadata": {},
   "outputs": [
    {
     "name": "stderr",
     "output_type": "stream",
     "text": [
      "test1 (__main__.TestFactorial.test1) ... ok\n",
      "test_make_url_v1 (__main__.TestUrl.test_make_url_v1) ... ok\n",
      "test_make_url_v2 (__main__.TestUrl.test_make_url_v2) ... ok\n",
      "\n",
      "----------------------------------------------------------------------\n",
      "Ran 3 tests in 0.004s\n",
      "\n",
      "OK\n"
     ]
    }
   ],
   "source": [
    "import unittest\n",
    "\n",
    "class TestUrl(unittest.TestCase):\n",
    "    def test_make_url_v2(self):\n",
    "        date = datetime.date(2020,1,1)\n",
    "        self.assertEqual(make_url(date),\"https://api.example.com/v2/2020/1/1\")\n",
    "\n",
    "    def test_make_url_v1(self):\n",
    "        date = datetime.date(2019,12,31)\n",
    "        self.assertEqual(make_url(date),\"https://api.example.com/v1/2019-12-31\")\n",
    "\n",
    "\n",
    "res = unittest.main(argv=[''],verbosity=3,exit=False)\n"
   ]
  },
  {
   "cell_type": "code",
   "execution_count": null,
   "id": "725bc6ab",
   "metadata": {},
   "outputs": [],
   "source": []
  }
 ],
 "metadata": {
  "kernelspec": {
   "display_name": "isoniEnv",
   "language": "python",
   "name": "isonienv"
  },
  "language_info": {
   "codemirror_mode": {
    "name": "ipython",
    "version": 3
   },
   "file_extension": ".py",
   "mimetype": "text/x-python",
   "name": "python",
   "nbconvert_exporter": "python",
   "pygments_lexer": "ipython3",
   "version": "3.11.1"
  }
 },
 "nbformat": 4,
 "nbformat_minor": 5
}

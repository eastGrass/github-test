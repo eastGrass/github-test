{
 "cells": [
  {
   "cell_type": "markdown",
   "id": "7a06f250",
   "metadata": {},
   "source": [
    "# Learning Test-Driven Development: A Polyglot Guide to Writing Uncluttered Code"
   ]
  },
  {
   "cell_type": "markdown",
   "id": "ef4c16eb",
   "metadata": {},
   "source": [
    "## Chapter 1. The Money Problem"
   ]
  },
  {
   "cell_type": "code",
   "execution_count": 2,
   "id": "9e2aef3e",
   "metadata": {},
   "outputs": [
    {
     "name": "stderr",
     "output_type": "stream",
     "text": [
      "testMultiplication (__main__.TestMoney.testMultiplication) ... ERROR\n",
      "\n",
      "======================================================================\n",
      "ERROR: testMultiplication (__main__.TestMoney.testMultiplication)\n",
      "----------------------------------------------------------------------\n",
      "Traceback (most recent call last):\n",
      "  File \"C:\\Users\\china\\AppData\\Local\\Temp\\ipykernel_15140\\1165510300.py\", line 5, in testMultiplication\n",
      "    fiver = Dollar(5)\n",
      "           ^^^^^^\n",
      "NameError: name 'Dollar' is not defined\n",
      "\n",
      "----------------------------------------------------------------------\n",
      "Ran 1 test in 0.004s\n",
      "\n",
      "FAILED (errors=1)\n"
     ]
    }
   ],
   "source": [
    "import unittest \n",
    "\n",
    "class TestMoney(unittest.TestCase): \n",
    "  def testMultiplication(self): \n",
    "    fiver = Dollar(5) \n",
    "    tenner = fiver.times(2) \n",
    "    self.assertEqual(10, tenner.amount) \n",
    "\n",
    "\n",
    "if __name__ == '__main__':\n",
    "    # unittest.main()\n",
    "    unittest.main(argv=['ignored', '-v'], exit=False)"
   ]
  },
  {
   "cell_type": "code",
   "execution_count": 3,
   "id": "baa1aa7b",
   "metadata": {},
   "outputs": [
    {
     "name": "stderr",
     "output_type": "stream",
     "text": [
      "testMultiplication (__main__.TestMoney.testMultiplication) ... ERROR\n",
      "\n",
      "======================================================================\n",
      "ERROR: testMultiplication (__main__.TestMoney.testMultiplication)\n",
      "----------------------------------------------------------------------\n",
      "Traceback (most recent call last):\n",
      "  File \"C:\\Users\\china\\AppData\\Local\\Temp\\ipykernel_15140\\719961718.py\", line 5, in testMultiplication\n",
      "    fiver = Dollar(5)\n",
      "           ^^^^^^^^^\n",
      "TypeError: Dollar() takes no arguments\n",
      "\n",
      "----------------------------------------------------------------------\n",
      "Ran 1 test in 0.002s\n",
      "\n",
      "FAILED (errors=1)\n"
     ]
    }
   ],
   "source": [
    "import unittest \n",
    "\n",
    "class TestMoney(unittest.TestCase): \n",
    "  def testMultiplication(self): \n",
    "    fiver = Dollar(5) \n",
    "    tenner = fiver.times(2) \n",
    "    self.assertEqual(10, tenner.amount) \n",
    "\n",
    "class Dollar:\n",
    "  pass\n",
    "\n",
    "if __name__ == '__main__':\n",
    "    # unittest.main()\n",
    "    unittest.main(argv=['ignored', '-v'], exit=False)"
   ]
  },
  {
   "cell_type": "code",
   "execution_count": 4,
   "id": "4cf6b8f7",
   "metadata": {},
   "outputs": [
    {
     "name": "stderr",
     "output_type": "stream",
     "text": [
      "testMultiplication (__main__.TestMoney.testMultiplication) ... ERROR\n",
      "\n",
      "======================================================================\n",
      "ERROR: testMultiplication (__main__.TestMoney.testMultiplication)\n",
      "----------------------------------------------------------------------\n",
      "Traceback (most recent call last):\n",
      "  File \"C:\\Users\\china\\AppData\\Local\\Temp\\ipykernel_15140\\3542633231.py\", line 6, in testMultiplication\n",
      "    tenner = fiver.times(2)\n",
      "            ^^^^^^^^^^^\n",
      "AttributeError: 'Dollar' object has no attribute 'times'\n",
      "\n",
      "----------------------------------------------------------------------\n",
      "Ran 1 test in 0.002s\n",
      "\n",
      "FAILED (errors=1)\n"
     ]
    }
   ],
   "source": [
    "import unittest \n",
    "\n",
    "class TestMoney(unittest.TestCase): \n",
    "  def testMultiplication(self): \n",
    "    fiver = Dollar(5) \n",
    "    tenner = fiver.times(2) \n",
    "    self.assertEqual(10, tenner.amount) \n",
    "\n",
    "class Dollar:\n",
    "  def __init__(self, amount):\n",
    "    pass\n",
    "\n",
    "if __name__ == '__main__':\n",
    "    # unittest.main()\n",
    "    unittest.main(argv=['ignored', '-v'], exit=False)"
   ]
  },
  {
   "cell_type": "code",
   "execution_count": 5,
   "id": "bb6d5843",
   "metadata": {},
   "outputs": [
    {
     "name": "stderr",
     "output_type": "stream",
     "text": [
      "testMultiplication (__main__.TestMoney.testMultiplication) ... ok\n",
      "\n",
      "----------------------------------------------------------------------\n",
      "Ran 1 test in 0.001s\n",
      "\n",
      "OK\n"
     ]
    }
   ],
   "source": [
    "import unittest \n",
    "\n",
    "class TestMoney(unittest.TestCase): \n",
    "  def testMultiplication(self): \n",
    "    fiver = Dollar(5) \n",
    "    tenner = fiver.times(2) \n",
    "    self.assertEqual(10, tenner.amount) \n",
    "\n",
    "class Dollar:\n",
    "  def __init__(self, amount): \n",
    "    self.amount = amount \n",
    "\n",
    "  def times(self, multiplier): \n",
    "    return Dollar(10) \n",
    "\n",
    "if __name__ == '__main__':\n",
    "    # unittest.main()\n",
    "    unittest.main(argv=['ignored', '-v'], exit=False)"
   ]
  },
  {
   "cell_type": "code",
   "execution_count": 6,
   "id": "c6873a65",
   "metadata": {},
   "outputs": [
    {
     "name": "stderr",
     "output_type": "stream",
     "text": [
      "testMultiplication (__main__.TestMoney.testMultiplication) ... ok\n",
      "\n",
      "----------------------------------------------------------------------\n",
      "Ran 1 test in 0.001s\n",
      "\n",
      "OK\n"
     ]
    }
   ],
   "source": [
    "import unittest \n",
    "\n",
    "class TestMoney(unittest.TestCase): \n",
    "  def testMultiplication(self): \n",
    "    fiver = Dollar(5) \n",
    "    tenner = fiver.times(2) \n",
    "    self.assertEqual(10, tenner.amount) \n",
    "\n",
    "class Dollar:\n",
    "  def __init__(self, amount): \n",
    "    self.amount = amount \n",
    "\n",
    "  def times(self, multiplier):\n",
    "    return Dollar(self.amount * multiplier)\n",
    "\n",
    "if __name__ == '__main__':\n",
    "    # unittest.main()\n",
    "    unittest.main(argv=['ignored', '-v'], exit=False)"
   ]
  },
  {
   "cell_type": "code",
   "execution_count": null,
   "id": "3758d81b",
   "metadata": {},
   "outputs": [],
   "source": []
  }
 ],
 "metadata": {
  "kernelspec": {
   "display_name": "isoniEnv",
   "language": "python",
   "name": "isonienv"
  },
  "language_info": {
   "codemirror_mode": {
    "name": "ipython",
    "version": 3
   },
   "file_extension": ".py",
   "mimetype": "text/x-python",
   "name": "python",
   "nbconvert_exporter": "python",
   "pygments_lexer": "ipython3",
   "version": "3.11.1"
  }
 },
 "nbformat": 4,
 "nbformat_minor": 5
}

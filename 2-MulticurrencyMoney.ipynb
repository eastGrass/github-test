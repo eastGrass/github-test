{
 "cells": [
  {
   "cell_type": "markdown",
   "id": "b63f29a4",
   "metadata": {},
   "source": [
    "## Chapter 2. Multicurrency Money\n"
   ]
  },
  {
   "cell_type": "code",
   "execution_count": 1,
   "id": "048f6037",
   "metadata": {},
   "outputs": [
    {
     "name": "stderr",
     "output_type": "stream",
     "text": [
      "testDivision (__main__.TestMoney.testDivision) ... ERROR\n",
      "testMultiplicationInDollars (__main__.TestMoney.testMultiplicationInDollars) ... ok\n",
      "\n",
      "======================================================================\n",
      "ERROR: testDivision (__main__.TestMoney.testDivision)\n",
      "----------------------------------------------------------------------\n",
      "Traceback (most recent call last):\n",
      "  File \"C:\\Users\\china\\AppData\\Local\\Temp\\ipykernel_1268\\3422214668.py\", line 20, in testDivision\n",
      "    actualMoneyAfterDivision = originalMoney.divide(4)\n",
      "                               ^^^^^^^^^^^^^^^^^^^^\n",
      "AttributeError: 'Money' object has no attribute 'divide'\n",
      "\n",
      "----------------------------------------------------------------------\n",
      "Ran 2 tests in 0.006s\n",
      "\n",
      "FAILED (errors=1)\n"
     ]
    }
   ],
   "source": [
    "import unittest \n",
    "\n",
    "class Money:\n",
    "  def __init__(self, amount, currency):\n",
    "    self.amount = amount\n",
    "    self.currency = currency\n",
    "\n",
    "  def times(self, multiplier):\n",
    "    return Money(self.amount * multiplier, self.currency)\n",
    "\n",
    "class TestMoney(unittest.TestCase):\n",
    "  def testMultiplicationInDollars(self):\n",
    "    fiver = Money(5, \"USD\")\n",
    "    tenner = fiver.times(2)\n",
    "    self.assertEqual(10, tenner.amount)\n",
    "    self.assertEqual(\"USD\", tenner.currency)\n",
    "    \n",
    "  def testDivision(self):\n",
    "    originalMoney = Money(4002, \"KRW\")\n",
    "    actualMoneyAfterDivision = originalMoney.divide(4)\n",
    "    expectedMoneyAfterDivision = Money(1000.5, \"KRW\")\n",
    "    self.assertEqual(expectedMoneyAfterDivision.amount, actualMoneyAfterDivision.amount)\n",
    "    self.assertEqual(expectedMoneyAfterDivision.currency, actualMoneyAfterDivision.currency)\n",
    "    \n",
    "    \n",
    "if __name__ == '__main__':\n",
    "    unittest.main(argv=['ignored', '-v'], exit=False)"
   ]
  },
  {
   "cell_type": "code",
   "execution_count": 2,
   "id": "087a6ec0",
   "metadata": {},
   "outputs": [
    {
     "name": "stderr",
     "output_type": "stream",
     "text": [
      "testDivision (__main__.TestMoney.testDivision) ... ok\n",
      "testMultiplicationInDollars (__main__.TestMoney.testMultiplicationInDollars) ... ok\n",
      "\n",
      "----------------------------------------------------------------------\n",
      "Ran 2 tests in 0.002s\n",
      "\n",
      "OK\n"
     ]
    }
   ],
   "source": [
    "import unittest \n",
    "\n",
    "class Money:\n",
    "  def __init__(self, amount, currency):\n",
    "    self.amount = amount\n",
    "    self.currency = currency\n",
    "\n",
    "  def times(self, multiplier):\n",
    "    return Money(self.amount * multiplier, self.currency)\n",
    "  \n",
    "  def divide(self, divisor):\n",
    "    return Money(self.amount / divisor, self.currency)\n",
    "\n",
    "class TestMoney(unittest.TestCase):\n",
    "  def testMultiplicationInDollars(self):\n",
    "    fiver = Money(5, \"USD\")\n",
    "    tenner = fiver.times(2)\n",
    "    self.assertEqual(10, tenner.amount)\n",
    "    self.assertEqual(\"USD\", tenner.currency)\n",
    "    \n",
    "  def testDivision(self):\n",
    "    originalMoney = Money(4002, \"KRW\")\n",
    "    actualMoneyAfterDivision = originalMoney.divide(4)\n",
    "    expectedMoneyAfterDivision = Money(1000.5, \"KRW\")\n",
    "    self.assertEqual(expectedMoneyAfterDivision.amount, actualMoneyAfterDivision.amount)\n",
    "    self.assertEqual(expectedMoneyAfterDivision.currency, actualMoneyAfterDivision.currency)\n",
    "    \n",
    "    \n",
    "if __name__ == '__main__':\n",
    "    unittest.main(argv=['ignored', '-v'], exit=False)"
   ]
  },
  {
   "cell_type": "code",
   "execution_count": 3,
   "id": "ef8b3531",
   "metadata": {},
   "outputs": [
    {
     "name": "stderr",
     "output_type": "stream",
     "text": [
      "testDivision (__main__.TestMoney.testDivision) ... ok\n",
      "testMultiplicationInDollars (__main__.TestMoney.testMultiplicationInDollars) ... ok\n",
      "\n",
      "----------------------------------------------------------------------\n",
      "Ran 2 tests in 0.002s\n",
      "\n",
      "OK\n"
     ]
    }
   ],
   "source": [
    "import unittest \n",
    "\n",
    "class Money:\n",
    "  def __init__(self, amount, currency):\n",
    "    self.amount = amount\n",
    "    self.currency = currency\n",
    "\n",
    "  def times(self, multiplier):\n",
    "    return Money(self.amount * multiplier, self.currency)\n",
    "  \n",
    "  def divide(self, divisor):\n",
    "    return Money(self.amount / divisor, self.currency)\n",
    "    \n",
    "  def __eq__(self, other):\n",
    "    return self.amount == other.amount and self.currency == other.currency\n",
    "\n",
    "\n",
    "class TestMoney(unittest.TestCase):\n",
    "  def testMultiplicationInDollars(self):\n",
    "    fiver = Money(5, \"USD\")\n",
    "    tenner = fiver.times(2)\n",
    "    self.assertEqual(10, tenner.amount)\n",
    "    self.assertEqual(\"USD\", tenner.currency)\n",
    "    \n",
    "  def testDivision(self):\n",
    "    originalMoney = Money(4002, \"KRW\")\n",
    "    actualMoneyAfterDivision = originalMoney.divide(4)\n",
    "    expectedMoneyAfterDivision = Money(1000.5, \"KRW\")\n",
    "    self.assertEqual(expectedMoneyAfterDivision.amount, actualMoneyAfterDivision.amount)\n",
    "    self.assertEqual(expectedMoneyAfterDivision.currency, actualMoneyAfterDivision.currency)\n",
    "    \n",
    "  def testMultiplicationInDollars(self):\n",
    "    fiveDollars = Money(5, \"USD\")\n",
    "    tenDollars = Money(10, \"USD\")\n",
    "    self.assertEqual(tenDollars, fiveDollars.times(2))\n",
    "    \n",
    "    \n",
    "if __name__ == '__main__':\n",
    "    unittest.main(argv=['ignored', '-v'], exit=False)"
   ]
  },
  {
   "cell_type": "code",
   "execution_count": null,
   "id": "1b2b1835",
   "metadata": {},
   "outputs": [],
   "source": []
  }
 ],
 "metadata": {
  "kernelspec": {
   "display_name": "isoniEnv",
   "language": "python",
   "name": "isonienv"
  },
  "language_info": {
   "codemirror_mode": {
    "name": "ipython",
    "version": 3
   },
   "file_extension": ".py",
   "mimetype": "text/x-python",
   "name": "python",
   "nbconvert_exporter": "python",
   "pygments_lexer": "ipython3",
   "version": "3.11.1"
  }
 },
 "nbformat": 4,
 "nbformat_minor": 5
}
